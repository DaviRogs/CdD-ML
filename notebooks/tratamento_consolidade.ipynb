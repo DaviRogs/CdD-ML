{
 "cells": [
  {
   "cell_type": "markdown",
   "id": "7f8518d4",
   "metadata": {},
   "source": [
    "## 1. Tratando duplicatas"
   ]
  },
  {
   "cell_type": "code",
   "execution_count": 2,
   "id": "6c07fa44",
   "metadata": {},
   "outputs": [
    {
     "name": "stderr",
     "output_type": "stream",
     "text": [
      "C:\\Users\\VENDA\\AppData\\Local\\Temp\\ipykernel_22008\\2521512547.py:4: DtypeWarning: Columns (2) have mixed types. Specify dtype option on import or set low_memory=False.\n",
      "  df_check = pd.read_csv(\"../dados/df_consolidado.csv\", usecols=[\"id_votacao\", \"id_deputado\", \"tipoVoto\"])\n"
     ]
    },
    {
     "name": "stdout",
     "output_type": "stream",
     "text": [
      "Registros duplicados: 15356870\n",
      "Linhas totais: 15976344\n"
     ]
    }
   ],
   "source": [
    "import pandas as pd\n",
    "\n",
    "# Lê apenas algumas colunas críticas para checar duplicatas\n",
    "df_check = pd.read_csv(\"../dados/df_consolidado.csv\", usecols=[\"id_votacao\", \"id_deputado\", \"tipoVoto\"])\n",
    "\n",
    "# Verifica duplicações\n",
    "duplicatas = df_check.duplicated().sum()\n",
    "print(f\"Registros duplicados: {duplicatas}\")\n",
    "\n",
    "# Tamanho total\n",
    "print(f\"Linhas totais: {len(df_check)}\")\n"
   ]
  },
  {
   "cell_type": "code",
   "execution_count": 4,
   "id": "0d5d5e28",
   "metadata": {},
   "outputs": [
    {
     "ename": "NameError",
     "evalue": "name 'df_orientacoes' is not defined",
     "output_type": "error",
     "traceback": [
      "\u001b[31m---------------------------------------------------------------------------\u001b[39m",
      "\u001b[31mNameError\u001b[39m                                 Traceback (most recent call last)",
      "\u001b[36mCell\u001b[39m\u001b[36m \u001b[39m\u001b[32mIn[4]\u001b[39m\u001b[32m, line 2\u001b[39m\n\u001b[32m      1\u001b[39m \u001b[38;5;66;03m# Quantos orientações por votação?\u001b[39;00m\n\u001b[32m----> \u001b[39m\u001b[32m2\u001b[39m \u001b[43mdf_orientacoes\u001b[49m.groupby(\u001b[33m\"\u001b[39m\u001b[33mid_votacao\u001b[39m\u001b[33m\"\u001b[39m).size().value_counts()\n",
      "\u001b[31mNameError\u001b[39m: name 'df_orientacoes' is not defined"
     ]
    }
   ],
   "source": [
    "# Quantos orientações por votação?\n",
    "df_orientacoes.groupby(\"id_votacao\").size().value_counts()\n"
   ]
  }
 ],
 "metadata": {
  "kernelspec": {
   "display_name": "Python 3",
   "language": "python",
   "name": "python3"
  },
  "language_info": {
   "codemirror_mode": {
    "name": "ipython",
    "version": 3
   },
   "file_extension": ".py",
   "mimetype": "text/x-python",
   "name": "python",
   "nbconvert_exporter": "python",
   "pygments_lexer": "ipython3",
   "version": "3.13.1"
  }
 },
 "nbformat": 4,
 "nbformat_minor": 5
}
