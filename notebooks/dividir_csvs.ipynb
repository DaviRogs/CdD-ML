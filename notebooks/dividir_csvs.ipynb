{
 "cells": [
  {
   "cell_type": "code",
   "execution_count": 2,
   "id": "19b49329",
   "metadata": {},
   "outputs": [],
   "source": [
    "import pandas as pd\n",
    "import os\n",
    "\n",
    "def dividir_csv_por_ano(ano, caminho_base=\"../dados/raw\"):\n",
    "    \"\"\"\n",
    "    Divide o arquivo CSV de um determinado ano em dois arquivos menores.\n",
    "    \n",
    "    Parâmetros:\n",
    "    - ano (int): Ano do arquivo a ser dividido (ex: 2019).\n",
    "    - caminho_base (str): Caminho da pasta onde estão os arquivos CSV.\n",
    "    \"\"\"\n",
    "    nome_arquivo = f\"votos_individuais_proposicoes_raw_{ano}.csv\"\n",
    "    caminho_arquivo = os.path.join(caminho_base, nome_arquivo)\n",
    "    \n",
    "    try:\n",
    "        df = pd.read_csv(caminho_arquivo)\n",
    "        meio = len(df) // 2\n",
    "        df.iloc[:meio].to_csv(os.path.join(caminho_base, f\"votos_individuais_proposicoes_raw_{ano}.1.csv\"), index=False)\n",
    "        df.iloc[meio:].to_csv(os.path.join(caminho_base, f\"votos_individuais_proposicoes_raw_{ano}.2.csv\"), index=False)\n",
    "        print(f\"[OK] {ano} dividido com sucesso.\")\n",
    "    except FileNotFoundError:\n",
    "        print(f\"[ERRO] Arquivo {caminho_arquivo} não encontrado.\")\n",
    "    except Exception as e:\n",
    "        print(f\"[ERRO] Falha ao processar {ano}: {e}\")\n"
   ]
  },
  {
   "cell_type": "code",
   "execution_count": 3,
   "id": "bff2d0f6",
   "metadata": {},
   "outputs": [
    {
     "name": "stdout",
     "output_type": "stream",
     "text": [
      "[OK] 2019 dividido com sucesso.\n",
      "[OK] 2020 dividido com sucesso.\n",
      "[OK] 2021 dividido com sucesso.\n",
      "[OK] 2022 dividido com sucesso.\n"
     ]
    }
   ],
   "source": [
    "for ano in range(2019, 2023):\n",
    "    dividir_csv_por_ano(ano)\n"
   ]
  }
 ],
 "metadata": {
  "kernelspec": {
   "display_name": "Python 3",
   "language": "python",
   "name": "python3"
  },
  "language_info": {
   "codemirror_mode": {
    "name": "ipython",
    "version": 3
   },
   "file_extension": ".py",
   "mimetype": "text/x-python",
   "name": "python",
   "nbconvert_exporter": "python",
   "pygments_lexer": "ipython3",
   "version": "3.13.1"
  }
 },
 "nbformat": 4,
 "nbformat_minor": 5
}
