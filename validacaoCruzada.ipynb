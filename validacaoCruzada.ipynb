{
 "cells": [
  {
   "cell_type": "markdown",
   "id": "cfa85aa9",
   "metadata": {},
   "source": [
    "# Tópico 3 – Validação cruzada + Análise de Erros\n",
    "\n",
    "Este notebook aplica validação cruzada e análise de erros utilizando dados da API da Câmara dos Deputados para prever se proposições serão aprovadas."
   ]
  },
  {
   "cell_type": "code",
   "execution_count": null,
   "id": "8c78eaa4",
   "metadata": {},
   "outputs": [],
   "source": [
    "\n",
    "import requests\n",
    "import pandas as pd\n",
    "from sklearn.model_selection import train_test_split, StratifiedKFold, cross_val_score\n",
    "from sklearn.ensemble import RandomForestClassifier\n",
    "from sklearn.metrics import confusion_matrix\n",
    "import seaborn as sns\n",
    "import matplotlib.pyplot as plt\n"
   ]
  },
  {
   "cell_type": "code",
   "execution_count": null,
   "id": "bdaa36f6",
   "metadata": {},
   "outputs": [],
   "source": [
    "\n",
    "# 1. Baixar votações\n",
    "url = \"https://dadosabertos.camara.leg.br/api/v2/votacoes\"\n",
    "params = {\"itens\": 100}\n",
    "res = requests.get(url, params=params)\n",
    "dados = res.json()['dados']\n"
   ]
  },
  {
   "cell_type": "code",
   "execution_count": null,
   "id": "bdd30fac",
   "metadata": {},
   "outputs": [],
   "source": [
    "\n",
    "# 2. Criar dataframe\n",
    "df = pd.DataFrame(dados)\n",
    "df['aprovado'] = df['resultado'].apply(lambda x: 1 if isinstance(x, str) and 'Aprovado' in x else 0)\n"
   ]
  },
  {
   "cell_type": "code",
   "execution_count": null,
   "id": "f130f873",
   "metadata": {},
   "outputs": [],
   "source": [
    "\n",
    "# 3. Pré-processamento\n",
    "df['dataHoraRegistro'] = pd.to_datetime(df['dataHoraRegistro'])\n",
    "df['ano'] = df['dataHoraRegistro'].dt.year\n",
    "df['mes'] = df['dataHoraRegistro'].dt.month\n",
    "df.fillna('desconhecido', inplace=True)\n",
    "\n",
    "df_encoded = pd.get_dummies(df[['tipoVotacao', 'descricaoTipo']], drop_first=True)\n",
    "X = pd.concat([df[['ano', 'mes']], df_encoded], axis=1)\n",
    "y = df['aprovado']\n"
   ]
  },
  {
   "cell_type": "code",
   "execution_count": null,
   "id": "fe43ae35",
   "metadata": {},
   "outputs": [],
   "source": [
    "\n",
    "# 4. Treinar modelo com validação cruzada\n",
    "model = RandomForestClassifier(random_state=42)\n",
    "cv = StratifiedKFold(n_splits=5, shuffle=True, random_state=42)\n",
    "scores = cross_val_score(model, X, y, cv=cv, scoring='f1_macro')\n",
    "scores\n"
   ]
  },
  {
   "cell_type": "code",
   "execution_count": null,
   "id": "c6051220",
   "metadata": {},
   "outputs": [],
   "source": [
    "\n",
    "# 5. Treinar em treino/teste e analisar\n",
    "X_train, X_test, y_train, y_test = train_test_split(X, y, stratify=y, test_size=0.2, random_state=42)\n",
    "model.fit(X_train, y_train)\n",
    "y_pred = model.predict(X_test)\n"
   ]
  },
  {
   "cell_type": "code",
   "execution_count": null,
   "id": "738dd8d8",
   "metadata": {},
   "outputs": [],
   "source": [
    "\n",
    "# 6. Gráfico dos scores\n",
    "sns.boxplot(data=[scores])\n",
    "plt.title(\"Distribuição dos F1-macro nas folds\")\n",
    "plt.ylabel(\"F1-score\")\n",
    "plt.show()\n"
   ]
  },
  {
   "cell_type": "code",
   "execution_count": null,
   "id": "6f4e3cb9",
   "metadata": {},
   "outputs": [],
   "source": [
    "\n",
    "# 7. Matriz de confusão\n",
    "cm = confusion_matrix(y_test, y_pred)\n",
    "sns.heatmap(cm, annot=True, fmt=\"d\", cmap=\"Blues\")\n",
    "plt.title(\"Matriz de Confusão\")\n",
    "plt.xlabel(\"Previsto\")\n",
    "plt.ylabel(\"Real\")\n",
    "plt.show()\n"
   ]
  }
 ],
 "metadata": {},
 "nbformat": 4,
 "nbformat_minor": 5
}
